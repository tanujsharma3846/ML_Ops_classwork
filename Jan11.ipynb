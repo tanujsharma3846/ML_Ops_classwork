{
 "cells": [
  {
   "cell_type": "code",
   "execution_count": 1,
   "id": "f0328171",
   "metadata": {},
   "outputs": [],
   "source": [
    "import numpy as np\n",
    "import pandas as pd"
   ]
  },
  {
   "cell_type": "code",
   "execution_count": 3,
   "id": "e06d8010",
   "metadata": {},
   "outputs": [
    {
     "name": "stdout",
     "output_type": "stream",
     "text": [
      "0 1 1 2 3 5 8 13 21 34 "
     ]
    }
   ],
   "source": [
    "a, b = 0, 1\n",
    "for _ in range(10):\n",
    "    print(a, end=\" \")\n",
    "    a, b = b, a + b\n"
   ]
  },
  {
   "cell_type": "code",
   "execution_count": 4,
   "id": "17a2d5a6",
   "metadata": {},
   "outputs": [],
   "source": [
    "s='ab3cd4'"
   ]
  },
  {
   "cell_type": "code",
   "execution_count": 7,
   "id": "8ab7856c",
   "metadata": {},
   "outputs": [
    {
     "name": "stdout",
     "output_type": "stream",
     "text": [
      "abbbccdddd\n"
     ]
    }
   ],
   "source": [
    "input_str = \"ab3c2d4\"\n",
    "output_str = \"\"\n",
    "for i in input_str:\n",
    "    if i.isalpha():\n",
    "        output_str += i\n",
    "    else:\n",
    "        output_str += output_str[-1] * (int(i) - 1)\n",
    "print(output_str)"
   ]
  },
  {
   "cell_type": "code",
   "execution_count": 10,
   "id": "24c30e58",
   "metadata": {},
   "outputs": [],
   "source": [
    "input_str='a4b5v2'\n",
    "output_str=''\n",
    "for i in input_str:\n",
    "    if i.isalpha():\n",
    "        output_str +=i\n",
    "    else:\n",
    "        output_str +=output_str[-1]*(int(i)-1)"
   ]
  },
  {
   "cell_type": "code",
   "execution_count": 11,
   "id": "3abb6ceb",
   "metadata": {},
   "outputs": [
    {
     "name": "stdout",
     "output_type": "stream",
     "text": [
      "aaaabbbbbvv\n"
     ]
    }
   ],
   "source": [
    "print(output_str)"
   ]
  },
  {
   "cell_type": "code",
   "execution_count": 13,
   "id": "d44c6d33",
   "metadata": {},
   "outputs": [
    {
     "name": "stdout",
     "output_type": "stream",
     "text": [
      "Enter a string: v2b3n4m5\n",
      "vvbbbnnnnmmmmm\n"
     ]
    }
   ],
   "source": [
    "input_str = input(\"Enter a string: \")\n",
    "output_str = \"\"\n",
    "for i in input_str:\n",
    "    if i.isalpha():\n",
    "        output_str += i\n",
    "    else:\n",
    "        output_str += output_str[-1] * (int(i) - 1)\n",
    "print(output_str)\n"
   ]
  },
  {
   "cell_type": "code",
   "execution_count": 15,
   "id": "cc048373",
   "metadata": {},
   "outputs": [
    {
     "name": "stdout",
     "output_type": "stream",
     "text": [
      "abbccc"
     ]
    }
   ],
   "source": [
    "s='ab2c3'\n",
    "for i in range(0,len(s)):\n",
    "    if i+1<len(s) and s[i+1].isdigit():\n",
    "        print(s[i]*int(s[i+1]),end='')\n",
    "    elif s[i].isalpha():\n",
    "        print(s[i],end='')"
   ]
  },
  {
   "cell_type": "code",
   "execution_count": null,
   "id": "6be67231",
   "metadata": {},
   "outputs": [],
   "source": []
  }
 ],
 "metadata": {
  "kernelspec": {
   "display_name": "Python 3 (ipykernel)",
   "language": "python",
   "name": "python3"
  },
  "language_info": {
   "codemirror_mode": {
    "name": "ipython",
    "version": 3
   },
   "file_extension": ".py",
   "mimetype": "text/x-python",
   "name": "python",
   "nbconvert_exporter": "python",
   "pygments_lexer": "ipython3",
   "version": "3.9.12"
  }
 },
 "nbformat": 4,
 "nbformat_minor": 5
}
